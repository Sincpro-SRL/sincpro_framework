{
 "cells": [
  {
   "cell_type": "code",
   "id": "initial_id",
   "metadata": {
    "collapsed": true
   },
   "source": [
    "from sincpro_framework import UseFramework, Feature, DataTransferObject\n",
    "f1 = UseFramework(\"app-1\")\n",
    "f2 = UseFramework(\"wrapper-2\")"
   ],
   "outputs": [],
   "execution_count": null
  },
  {
   "metadata": {},
   "cell_type": "code",
   "source": [
    "class Command1(DataTransferObject):\n",
    "    pass\n",
    "\n",
    "\n",
    "@f1.feature(Command1)\n",
    "class Feature1(Feature):\n",
    "    def execute(self, dto):\n",
    "        pass\n",
    "\n",
    "\n",
    "class Command2(DataTransferObject):\n",
    "    pass\n",
    "\n",
    "\n",
    "@f2.feature(Command2)\n",
    "class Feature2(Feature):\n",
    "    def execute(self, dto):\n",
    "        pass\n"
   ],
   "id": "7aa35bc030620054",
   "outputs": [],
   "execution_count": null
  },
  {
   "metadata": {},
   "cell_type": "code",
   "source": [
    "f1.build_root_bus()\n",
    "f2.build_root_bus()"
   ],
   "id": "ea4dc76807f8f2d",
   "outputs": [],
   "execution_count": null
  },
  {
   "metadata": {},
   "cell_type": "code",
   "source": "f1.bus.bundled_context_name",
   "id": "81d91fbac61690da",
   "outputs": [],
   "execution_count": null
  },
  {
   "metadata": {},
   "cell_type": "code",
   "source": [
    "print(f1.bus.feature_bus.feature_registry)\n",
    "print(f2.bus.feature_bus.feature_registry)"
   ],
   "id": "a84fb1bb788503f2",
   "outputs": [],
   "execution_count": null
  },
  {
   "metadata": {},
   "cell_type": "code",
   "source": "",
   "id": "13c2b7c61148913d",
   "outputs": [],
   "execution_count": null
  }
 ],
 "metadata": {
  "kernelspec": {
   "display_name": "Python 3",
   "language": "python",
   "name": "python3"
  },
  "language_info": {
   "codemirror_mode": {
    "name": "ipython",
    "version": 2
   },
   "file_extension": ".py",
   "mimetype": "text/x-python",
   "name": "python",
   "nbconvert_exporter": "python",
   "pygments_lexer": "ipython2",
   "version": "2.7.6"
  }
 },
 "nbformat": 4,
 "nbformat_minor": 5
}
