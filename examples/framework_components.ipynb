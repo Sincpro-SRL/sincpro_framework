{
 "cells": [
  {
   "cell_type": "code",
   "execution_count": null,
   "id": "initial_id",
   "metadata": {
    "collapsed": true
   },
   "outputs": [],
   "source": [
    "from sincpro_framework import UseFramework, Feature, DataTransferObject\n",
    "f1 = UseFramework(\"app-1\")\n",
    "f2 = UseFramework(\"wrapper-2\")"
   ]
  },
  {
   "cell_type": "code",
   "execution_count": null,
   "id": "7aa35bc030620054",
   "metadata": {},
   "outputs": [],
   "source": [
    "class Command1(DataTransferObject):\n",
    "    pass\n",
    "\n",
    "\n",
    "@f1.feature(Command1)\n",
    "class Feature1(Feature):\n",
    "    def execute(self, dto):\n",
    "        pass\n",
    "\n",
    "\n",
    "class Command2(DataTransferObject):\n",
    "    pass\n",
    "\n",
    "\n",
    "@f2.feature(Command2)\n",
    "class Feature2(Feature):\n",
    "    def execute(self, dto):\n",
    "        pass\n"
   ]
  },
  {
   "cell_type": "code",
   "execution_count": null,
   "id": "ea4dc76807f8f2d",
   "metadata": {},
   "outputs": [],
   "source": [
    "f1.build_root_bus()\n",
    "f2.build_root_bus()"
   ]
  },
  {
   "cell_type": "code",
   "execution_count": null,
   "id": "81d91fbac61690da",
   "metadata": {},
   "outputs": [],
   "source": [
    "f1.bus.bundled_context_name"
   ]
  },
  {
   "cell_type": "code",
   "execution_count": null,
   "id": "a84fb1bb788503f2",
   "metadata": {},
   "outputs": [],
   "source": [
    "print(f1.bus.feature_bus.feature_registry)\n",
    "print(f2.bus.feature_bus.feature_registry)"
   ]
  },
  {
   "cell_type": "markdown",
   "id": "d28adbdc",
   "metadata": {},
   "source": [
    "## Auto-Documentation System Example\n",
    "\n",
    "El sistema de auto-documentación permite generar documentación automática de los frameworks construidos.\n",
    "\n",
    "**Importante**: El framework debe estar construido (llamar a `build_root_bus()`) antes de generar documentación."
   ]
  },
  {
   "cell_type": "code",
   "execution_count": null,
   "id": "bd2405f9",
   "metadata": {},
   "outputs": [],
   "source": [
    "# 📚 Sistema de Auto-documentación\n",
    "\n",
    "from sincpro_framework.generate_documentation import (\n",
    "    generate_framework_documentation,\n",
    "    print_framework_summary,\n",
    "    get_framework_components,\n",
    "    get_documentation_content\n",
    ")\n",
    "\n",
    "print(\"=== Framework 1 Summary ===\")\n",
    "print_framework_summary(f1)\n",
    "\n",
    "print(\"\\n=== Framework 2 Summary ===\")\n",
    "print_framework_summary(f2)"
   ]
  },
  {
   "cell_type": "code",
   "execution_count": null,
   "id": "2847f882",
   "metadata": {},
   "outputs": [],
   "source": [
    "# Obtener componentes registrados\n",
    "components_f1 = get_framework_components(f1)\n",
    "print(\"\\n=== Framework 1 Components ===\")\n",
    "print(f\"Features: {components_f1['features']}\")\n",
    "print(f\"DTOs: {components_f1['dtos']}\")\n",
    "\n",
    "components_f2 = get_framework_components(f2)\n",
    "print(\"\\n=== Framework 2 Components ===\")\n",
    "print(f\"Features: {components_f2['features']}\")\n",
    "print(f\"DTOs: {components_f2['dtos']}\")"
   ]
  },
  {
   "cell_type": "code",
   "execution_count": null,
   "id": "0805cfc7",
   "metadata": {},
   "outputs": [],
   "source": [
    "# Generar documentación completa en formato markdown\n",
    "doc_content = get_documentation_content(f1, format_type=\"markdown\")\n",
    "print(\"\\n=== Framework 1 Documentation (Preview) ===\")\n",
    "print(doc_content[:500] + \"...\" if len(doc_content) > 500 else doc_content)"
   ]
  },
  {
   "cell_type": "code",
   "execution_count": null,
   "id": "bad01072",
   "metadata": {},
   "outputs": [],
   "source": [
    "# Demostrar el error cuando el framework no está construido\n",
    "f3 = UseFramework(\"framework-not-built\")\n",
    "\n",
    "class Command3(DataTransferObject):\n",
    "    pass\n",
    "\n",
    "@f3.feature(Command3)\n",
    "class Feature3(Feature):\n",
    "    def execute(self, dto):\n",
    "        pass\n",
    "\n",
    "# Intentar generar documentación sin construir el framework\n",
    "try:\n",
    "    print_framework_summary(f3)\n",
    "except Exception as e:\n",
    "    print(f\"\\n❌ Error esperado: {e}\")\n",
    "    print(\"✅ La documentación requiere que el framework esté construido primero\")"
   ]
  },
  {
   "cell_type": "code",
   "execution_count": null,
   "id": "13c2b7c61148913d",
   "metadata": {},
   "outputs": [],
   "source": []
  },
  {
   "cell_type": "code",
   "execution_count": null,
   "id": "777eef7d",
   "metadata": {},
   "outputs": [],
   "source": [
    "# 📋 Uso Simple del Sistema de Auto-Documentación\n",
    "\n",
    "print(\"🚀 Generación simple de documentación:\")\n",
    "print(\"=\" * 50)\n",
    "\n",
    "# Uso directo desde la instancia del framework\n",
    "doc_path = f1.generate_documentation(\"F1_SIMPLE_DOCS.md\")\n",
    "print(f\"✅ Documentación de f1 generada en: {doc_path}\")\n",
    "\n",
    "print(\"\\n📊 Resumen rápido del framework f1:\")\n",
    "f1.print_framework_summary()\n",
    "\n",
    "print(\"\\n\" + \"=\" * 50)\n",
    "print(\"💡 Es tan simple como:\")\n",
    "print(\"   from tu_proyecto.app import tu_framework\")  \n",
    "print(\"   tu_framework.generate_documentation()\")\n",
    "print(\"   tu_framework.print_framework_summary()\")"
   ]
  }
 ],
 "metadata": {
  "kernelspec": {
   "display_name": "sincpro-framework-py3.12",
   "language": "python",
   "name": "python3"
  },
  "language_info": {
   "codemirror_mode": {
    "name": "ipython",
    "version": 3
   },
   "file_extension": ".py",
   "mimetype": "text/x-python",
   "name": "python",
   "nbconvert_exporter": "python",
   "pygments_lexer": "ipython3",
   "version": "3.12.11"
  }
 },
 "nbformat": 4,
 "nbformat_minor": 5
}
