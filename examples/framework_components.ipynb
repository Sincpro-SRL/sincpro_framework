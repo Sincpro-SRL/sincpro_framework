{
 "cells": [
  {
   "cell_type": "code",
   "execution_count": null,
   "id": "initial_id",
   "metadata": {
    "collapsed": true
   },
   "outputs": [],
   "source": [
    "from sincpro_framework import UseFramework, Feature, DataTransferObject\n",
    "f1 = UseFramework(\"app-1\")\n",
    "f2 = UseFramework(\"wrapper-2\")"
   ]
  },
  {
   "cell_type": "code",
   "execution_count": null,
   "id": "7aa35bc030620054",
   "metadata": {},
   "outputs": [],
   "source": [
    "class Command1(DataTransferObject):\n",
    "    pass\n",
    "\n",
    "\n",
    "@f1.feature(Command1)\n",
    "class Feature1(Feature):\n",
    "    def execute(self, dto):\n",
    "        pass\n",
    "\n",
    "\n",
    "class Command2(DataTransferObject):\n",
    "    pass\n",
    "\n",
    "\n",
    "@f2.feature(Command2)\n",
    "class Feature2(Feature):\n",
    "    def execute(self, dto):\n",
    "        pass\n"
   ]
  },
  {
   "cell_type": "code",
   "execution_count": null,
   "id": "ea4dc76807f8f2d",
   "metadata": {},
   "outputs": [],
   "source": [
    "f1.build_root_bus()\n",
    "f2.build_root_bus()"
   ]
  },
  {
   "cell_type": "code",
   "execution_count": null,
   "id": "81d91fbac61690da",
   "metadata": {},
   "outputs": [],
   "source": [
    "f1.bus.bundled_context_name"
   ]
  },
  {
   "cell_type": "code",
   "execution_count": null,
   "id": "a84fb1bb788503f2",
   "metadata": {},
   "outputs": [],
   "source": [
    "print(f1.bus.feature_bus.feature_registry)\n",
    "print(f2.bus.feature_bus.feature_registry)"
   ]
  },
  {
   "cell_type": "markdown",
   "id": "d28adbdc",
   "metadata": {},
   "source": [
    "## Auto-Documentation System Example\n",
    "\n",
    "El sistema de auto-documentación permite generar documentación automática de los frameworks construidos.\n",
    "\n",
    "**Importante**: El framework debe estar construido (llamar a `build_root_bus()`) antes de generar documentación."
   ]
  },
  {
   "cell_type": "code",
   "execution_count": null,
   "id": "777eef7d",
   "metadata": {},
   "outputs": [],
   "source": [
    "# 📋 Uso Simple del Sistema de Auto-Documentación\n",
    "\n",
    "print(\"🚀 Generación simple de documentación:\")\n",
    "print(\"=\" * 50)\n",
    "\n",
    "# Uso directo desde la instancia del framework\n",
    "doc_path = f1.generate_documentation(\"F1_SIMPLE_DOCS.md\")\n",
    "print(f\"✅ Documentación de f1 generada en: {doc_path}\")\n",
    "\n",
    "print(\"\\n📊 Resumen rápido del framework f1:\")\n",
    "f1.print_framework_summary()\n",
    "\n",
    "print(\"\\n\" + \"=\" * 50)\n",
    "print(\"💡 Es tan simple como:\")\n",
    "print(\"   from tu_proyecto.app import tu_framework\")  \n",
    "print(\"   tu_framework.generate_documentation()\")\n",
    "print(\"   tu_framework.print_framework_summary()\")"
   ]
  }
 ],
 "metadata": {
  "kernelspec": {
   "display_name": "sincpro-framework-py3.12",
   "language": "python",
   "name": "python3"
  },
  "language_info": {
   "codemirror_mode": {
    "name": "ipython",
    "version": 3
   },
   "file_extension": ".py",
   "mimetype": "text/x-python",
   "name": "python",
   "nbconvert_exporter": "python",
   "pygments_lexer": "ipython3",
   "version": "3.12.11"
  }
 },
 "nbformat": 4,
 "nbformat_minor": 5
}
