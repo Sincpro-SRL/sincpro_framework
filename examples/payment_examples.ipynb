{
 "cells": [
  {
   "cell_type": "code",
   "id": "35e8dba1",
   "metadata": {
    "ExecuteTime": {
     "end_time": "2025-07-30T04:50:35.491834Z",
     "start_time": "2025-07-30T04:50:35.431398Z"
    }
   },
   "source": [
    "# Configura framework\n",
    "from typing import Any\n",
    "from sincpro_framework import UseFramework, Feature, DataTransferObject, ApplicationService, Middleware\n",
    "\n",
    "framework = UseFramework(\"payment-system\")\n",
    "\n",
    "\n",
    "# Dependencies\n",
    "class Database:\n",
    "    \"\"\"Database class to handle transactions\"\"\"\n",
    "\n",
    "    def save_transaction(self, data):\n",
    "        return f\"saved_{id(data)}\"\n",
    "\n",
    "    def get_transaction(self, tx_id):\n",
    "        return {\"id\": tx_id, \"status\": \"completed\"}\n",
    "\n",
    "\n",
    "class VisaAdapter:\n",
    "    \"\"\"Adapter for Visa payment processing\"\"\"\n",
    "\n",
    "    def make_request(self, card_data):\n",
    "        return {\"approved\": True, \"tx_id\": \"visa_123\"}\n",
    "\n",
    "    def check_status(self, tx_id):\n",
    "        return \"approved\"\n",
    "\n",
    "def check_health():\n",
    "    \"\"\"Health check function for the framework\"\"\"\n",
    "    return {\"status\": \"ok\", \"version\": \"1.0.0\"}\n",
    "\n",
    "# Middleware\n",
    "class ValidatePayment(Middleware):\n",
    "    \"\"\"Middleware to validate payment data\"\"\"\n",
    "\n",
    "    def __call__(self, dto: Any) -> Any:\n",
    "        \"\"\"Validate payment and raise error if invalid\"\"\"\n",
    "        if hasattr(dto, 'amount') and dto.amount <= 0:\n",
    "            raise ValueError(\"Amount must be positive\")\n",
    "        if hasattr(dto, 'user_id') and not dto.user_id.strip():\n",
    "            raise ValueError(\"User ID is required\")\n",
    "        return dto\n",
    "\n",
    "\n",
    "database = Database()\n",
    "visa_adapter = VisaAdapter()\n",
    "\n",
    "framework.add_dependency(\"database\", database)\n",
    "framework.add_dependency(\"visa_adapter\", visa_adapter)\n",
    "framework.add_dependency(\"health_check\", check_health)\n",
    "framework.add_middleware(ValidatePayment())\n",
    "\n",
    "\n",
    "class Feat(Feature):\n",
    "    database: Database\n",
    "    visa_adapter: VisaAdapter\n",
    "\n",
    "\n",
    "class Services(ApplicationService):\n",
    "    database: Database\n",
    "    visa_adapter: VisaAdapter\n",
    "\n"
   ],
   "outputs": [
    {
     "name": "stdout",
     "output_type": "stream",
     "text": [
      "read yaml file /home/andru1236/dev/sincpro_framework/sincpro_framework/conf/sincpro_framework_conf.yml for config DefaultFrameworkConfig\n"
     ]
    }
   ],
   "execution_count": 1
  },
  {
   "cell_type": "code",
   "id": "8a469994",
   "metadata": {
    "ExecuteTime": {
     "end_time": "2025-07-30T04:50:36.132632Z",
     "start_time": "2025-07-30T04:50:36.128566Z"
    }
   },
   "source": [
    "class PaymentCommand(DataTransferObject):\n",
    "    \"\"\"PaymentCommand\"\"\"\n",
    "    card_number: str\n",
    "    amount: float\n",
    "    merchant_id: str\n",
    "\n",
    "\n",
    "class PaymentResponse(DataTransferObject):\n",
    "    \"\"\"PaymentResponse\"\"\"\n",
    "    transaction_id: str\n",
    "    status: str\n",
    "    amount: float\n",
    "\n",
    "\n",
    "class RefundCommand(DataTransferObject):\n",
    "    \"\"\"RefundCommand\"\"\"\n",
    "\n",
    "    transaction_id: str\n",
    "    amount: float\n",
    "    reason: str\n",
    "\n",
    "\n",
    "class RefundResponse(DataTransferObject):\n",
    "    \"\"\"RefundResponse\"\"\"\n",
    "    refund_id: str\n",
    "    status: str\n",
    "    amount: float\n",
    "\n",
    "\n",
    "class ValidateCommand(DataTransferObject):\n",
    "    \"\"\"ValidateCommand\"\"\"\n",
    "    card_number: str\n",
    "    cvv: str\n",
    "\n",
    "\n",
    "class ValidateResponse(DataTransferObject):\n",
    "    \"\"\"ValidateResponse\"\"\"\n",
    "    is_valid: bool\n",
    "    card_type: str"
   ],
   "outputs": [],
   "execution_count": 2
  },
  {
   "cell_type": "code",
   "id": "c1407fd1",
   "metadata": {
    "ExecuteTime": {
     "end_time": "2025-07-30T04:50:37.830372Z",
     "start_time": "2025-07-30T04:50:37.826461Z"
    }
   },
   "source": [
    "@framework.feature(PaymentCommand)\n",
    "class PaymentFeature(Feat):\n",
    "    \"\"\"Feature to handle payment processing\"\"\"\n",
    "\n",
    "    def execute(self, dto: PaymentCommand) -> PaymentResponse:\n",
    "        \"\"\"Execute payment processing\n",
    "        Args:\n",
    "            dto (PaymentCommand): Data transfer object containing payment details\n",
    "        Returns:\n",
    "            PaymentResponse: Response containing transaction details\n",
    "        \"\"\"\n",
    "        visa_result = self.visa_adapter.make_request({\"card\": dto.card_number})\n",
    "        tx_id = self.database.save_transaction(dto)\n",
    "        return PaymentResponse(\n",
    "            transaction_id=tx_id,\n",
    "            status=\"success\",\n",
    "            amount=dto.amount\n",
    "        )\n",
    "\n",
    "\n",
    "@framework.feature(RefundCommand)\n",
    "class RefundFeature(Feat):\n",
    "    \"\"\"Feature to handle refund processing\"\"\"\n",
    "\n",
    "    def execute(self, dto: RefundCommand) -> RefundResponse:\n",
    "        \"\"\"Execute refund processing\n",
    "        Args:\n",
    "            dto (RefundCommand): Data transfer object containing refund details\n",
    "        Returns:\n",
    "            RefundResponse: Response containing refund details\n",
    "        \"\"\"\n",
    "        # Assuming we have a method to get the original transaction\n",
    "        # and a method to process the refund through the Visa adapter\n",
    "        original_tx = self.database.get_transaction(dto.transaction_id)\n",
    "        refund_result = self.visa_adapter.make_request({\"refund\": dto.amount})\n",
    "        refund_id = self.database.save_transaction(dto)\n",
    "        return RefundResponse(\n",
    "            refund_id=refund_id,\n",
    "            status=\"refunded\",\n",
    "            amount=dto.amount\n",
    "        )\n",
    "\n",
    "\n",
    "@framework.feature(ValidateCommand)\n",
    "class ValidateFeature(Feat):\n",
    "    \"\"\"Feature to validate payment card details\"\"\"\n",
    "\n",
    "    def execute(self, dto: ValidateCommand) -> ValidateResponse:\n",
    "        \"\"\"Execute card validation\n",
    "        Args:\n",
    "            dto (ValidateCommand): Data transfer object containing card details\n",
    "        Returns:\n",
    "            ValidateResponse: Response indicating if the card is valid\n",
    "        \"\"\"\n",
    "        # Assuming we have a method to check the card status through the Visa adapter\n",
    "        # and return whether it is approved or not\n",
    "        validation = self.visa_adapter.check_status(dto.card_number)\n",
    "        return ValidateResponse(\n",
    "            is_valid=validation == \"approved\",\n",
    "            card_type=\"visa\"\n",
    "        )\n",
    "\n",
    "\n"
   ],
   "outputs": [
    {
     "name": "stdout",
     "output_type": "stream",
     "text": [
      "\u001B[2m2025-07-30T04:50:37.828341Z\u001B[0m [\u001B[32m\u001B[1mdebug    \u001B[0m] \u001B[1mRegistering feature: [PaymentCommand]\u001B[0m \u001B[36mapp_name\u001B[0m=\u001B[35mpayment-system\u001B[0m \u001B[36mfilename\u001B[0m=\u001B[35mioc.py\u001B[0m \u001B[36mfunc_name\u001B[0m=\u001B[35m_register_service\u001B[0m \u001B[36mlineno\u001B[0m=\u001B[35m104\u001B[0m\n",
      "\u001B[2m2025-07-30T04:50:37.828957Z\u001B[0m [\u001B[32m\u001B[1mdebug    \u001B[0m] \u001B[1mRegistering feature: [RefundCommand]\u001B[0m \u001B[36mapp_name\u001B[0m=\u001B[35mpayment-system\u001B[0m \u001B[36mfilename\u001B[0m=\u001B[35mioc.py\u001B[0m \u001B[36mfunc_name\u001B[0m=\u001B[35m_register_service\u001B[0m \u001B[36mlineno\u001B[0m=\u001B[35m104\u001B[0m\n",
      "\u001B[2m2025-07-30T04:50:37.829297Z\u001B[0m [\u001B[32m\u001B[1mdebug    \u001B[0m] \u001B[1mRegistering feature: [ValidateCommand]\u001B[0m \u001B[36mapp_name\u001B[0m=\u001B[35mpayment-system\u001B[0m \u001B[36mfilename\u001B[0m=\u001B[35mioc.py\u001B[0m \u001B[36mfunc_name\u001B[0m=\u001B[35m_register_service\u001B[0m \u001B[36mlineno\u001B[0m=\u001B[35m104\u001B[0m\n"
     ]
    }
   ],
   "execution_count": 3
  },
  {
   "cell_type": "code",
   "id": "955b3563",
   "metadata": {
    "ExecuteTime": {
     "end_time": "2025-07-30T04:50:38.893890Z",
     "start_time": "2025-07-30T04:50:38.890495Z"
    }
   },
   "source": [
    "class MakeTransactionCommand(DataTransferObject):\n",
    "    \"\"\"MakeTransactionCommand\"\"\"\n",
    "    card_number: str\n",
    "    amount: float\n",
    "    merchant_id: str\n",
    "\n",
    "\n",
    "class MakeTransactionResponse(DataTransferObject):\n",
    "    \"\"\"MakeTransactionResponse\"\"\"\n",
    "    transaction_id: str\n",
    "    status: str\n",
    "    amount: float\n",
    "\n",
    "\n",
    "@framework.app_service(MakeTransactionCommand)\n",
    "class MakeTransaction(Services):\n",
    "    def execute(self, dto: MakeTransactionCommand) -> MakeTransactionResponse:\n",
    "        \"\"\"Execute transaction processing\n",
    "        Args:\n",
    "            dto (MakeTransactionCommand): Data transfer object containing transaction details\n",
    "        Returns:\n",
    "            MakeTransactionResponse: Response containing transaction details\n",
    "        \"\"\"\n",
    "        # Validate the payment\n",
    "        validation = self.feature_bus.execute(ValidateCommand(card_number=dto.card_number, cvv=\"123\"))\n",
    "\n",
    "        if not validation.is_valid:\n",
    "            raise ValueError(\"Invalid card details\")\n",
    "\n",
    "        # Process the payment\n",
    "        payment = self.feature_bus.execute(\n",
    "            PaymentCommand(card_number=dto.card_number, amount=dto.amount, merchant_id=dto.merchant_id)\n",
    "        )\n",
    "\n",
    "        return MakeTransactionResponse(\n",
    "            transaction_id=payment.transaction_id,\n",
    "            status=payment.status,\n",
    "            amount=payment.amount\n",
    "        )"
   ],
   "outputs": [
    {
     "name": "stdout",
     "output_type": "stream",
     "text": [
      "\u001B[2m2025-07-30T04:50:38.892578Z\u001B[0m [\u001B[32m\u001B[1mdebug    \u001B[0m] \u001B[1mRegistering application service: [MakeTransactionCommand]\u001B[0m \u001B[36mapp_name\u001B[0m=\u001B[35mpayment-system\u001B[0m \u001B[36mfilename\u001B[0m=\u001B[35mioc.py\u001B[0m \u001B[36mfunc_name\u001B[0m=\u001B[35m_register_service\u001B[0m \u001B[36mlineno\u001B[0m=\u001B[35m104\u001B[0m\n"
     ]
    }
   ],
   "execution_count": 4
  },
  {
   "cell_type": "code",
   "id": "2407d528",
   "metadata": {
    "ExecuteTime": {
     "end_time": "2025-07-30T04:50:40.223336Z",
     "start_time": "2025-07-30T04:50:40.216963Z"
    }
   },
   "source": [
    "response = framework(MakeTransactionCommand(\n",
    "    card_number=\"4111111111111111\",\n",
    "    amount=100.0,\n",
    "    merchant_id=\"merchant_123\"\n",
    "), MakeTransactionResponse)\n",
    "response"
   ],
   "outputs": [
    {
     "name": "stdout",
     "output_type": "stream",
     "text": [
      "\u001B[2m2025-07-30T04:50:40.217771Z\u001B[0m [\u001B[32m\u001B[1mdebug    \u001B[0m] \u001B[1mFramework bus created         \u001B[0m \u001B[36mapp_name\u001B[0m=\u001B[35mpayment-system\u001B[0m \u001B[36mfilename\u001B[0m=\u001B[35mbus.py\u001B[0m \u001B[36mfunc_name\u001B[0m=\u001B[35m__init__\u001B[0m \u001B[36mlineno\u001B[0m=\u001B[35m137\u001B[0m\n",
      "\u001B[2m2025-07-30T04:50:40.218243Z\u001B[0m [\u001B[32m\u001B[1mdebug    \u001B[0m] \u001B[1mRegistered features: {'ValidateCommand', 'RefundCommand', 'PaymentCommand'}\u001B[0m \u001B[36mapp_name\u001B[0m=\u001B[35mpayment-system\u001B[0m \u001B[36mfilename\u001B[0m=\u001B[35mbus.py\u001B[0m \u001B[36mfunc_name\u001B[0m=\u001B[35m__init__\u001B[0m \u001B[36mlineno\u001B[0m=\u001B[35m138\u001B[0m\n",
      "\u001B[2m2025-07-30T04:50:40.218496Z\u001B[0m [\u001B[32m\u001B[1mdebug    \u001B[0m] \u001B[1mRegistered app services: {'MakeTransactionCommand'}\u001B[0m \u001B[36mapp_name\u001B[0m=\u001B[35mpayment-system\u001B[0m \u001B[36mfilename\u001B[0m=\u001B[35mbus.py\u001B[0m \u001B[36mfunc_name\u001B[0m=\u001B[35m__init__\u001B[0m \u001B[36mlineno\u001B[0m=\u001B[35m141\u001B[0m\n",
      "\u001B[2m2025-07-30T04:50:40.218753Z\u001B[0m [\u001B[32m\u001B[1minfo     \u001B[0m] \u001B[1mExecuting app service dto: [MakeTransactionCommand]\u001B[0m \u001B[36mapp_name\u001B[0m=\u001B[35mpayment-system\u001B[0m \u001B[36mfilename\u001B[0m=\u001B[35mbus.py\u001B[0m \u001B[36mfunc_name\u001B[0m=\u001B[35mexecute\u001B[0m \u001B[36mlineno\u001B[0m=\u001B[35m93\u001B[0m\n",
      "\u001B[2m2025-07-30T04:50:40.218972Z\u001B[0m [\u001B[32m\u001B[1mdebug    \u001B[0m] \u001B[1mMakeTransactionCommand(card_number='4111111111111111' amount=100.0 merchant_id='merchant_123')\u001B[0m \u001B[36mapp_name\u001B[0m=\u001B[35mpayment-system\u001B[0m \u001B[36mfilename\u001B[0m=\u001B[35mbus.py\u001B[0m \u001B[36mfunc_name\u001B[0m=\u001B[35mexecute\u001B[0m \u001B[36mlineno\u001B[0m=\u001B[35m96\u001B[0m\n",
      "\u001B[2m2025-07-30T04:50:40.219169Z\u001B[0m [\u001B[32m\u001B[1minfo     \u001B[0m] \u001B[1mExecuting feature dto: [ValidateCommand]\u001B[0m \u001B[36mapp_name\u001B[0m=\u001B[35mpayment-system\u001B[0m \u001B[36mfilename\u001B[0m=\u001B[35mbus.py\u001B[0m \u001B[36mfunc_name\u001B[0m=\u001B[35mexecute\u001B[0m \u001B[36mlineno\u001B[0m=\u001B[35m42\u001B[0m\n",
      "\u001B[2m2025-07-30T04:50:40.219368Z\u001B[0m [\u001B[32m\u001B[1mdebug    \u001B[0m] \u001B[1mValidateCommand(card_number='4111111111111111' cvv='123')\u001B[0m \u001B[36mapp_name\u001B[0m=\u001B[35mpayment-system\u001B[0m \u001B[36mfilename\u001B[0m=\u001B[35mbus.py\u001B[0m \u001B[36mfunc_name\u001B[0m=\u001B[35mexecute\u001B[0m \u001B[36mlineno\u001B[0m=\u001B[35m46\u001B[0m\n",
      "\u001B[2m2025-07-30T04:50:40.219575Z\u001B[0m [\u001B[32m\u001B[1mdebug    \u001B[0m] \u001B[1mFeature response ValidateResponse(is_valid=True card_type='visa')\u001B[0m \u001B[36mapp_name\u001B[0m=\u001B[35mpayment-system\u001B[0m \u001B[36mfilename\u001B[0m=\u001B[35mbus.py\u001B[0m \u001B[36mfunc_name\u001B[0m=\u001B[35mexecute\u001B[0m \u001B[36mlineno\u001B[0m=\u001B[35m51\u001B[0m\n",
      "\u001B[2m2025-07-30T04:50:40.219790Z\u001B[0m [\u001B[32m\u001B[1minfo     \u001B[0m] \u001B[1mExecuting feature dto: [PaymentCommand]\u001B[0m \u001B[36mapp_name\u001B[0m=\u001B[35mpayment-system\u001B[0m \u001B[36mfilename\u001B[0m=\u001B[35mbus.py\u001B[0m \u001B[36mfunc_name\u001B[0m=\u001B[35mexecute\u001B[0m \u001B[36mlineno\u001B[0m=\u001B[35m42\u001B[0m\n",
      "\u001B[2m2025-07-30T04:50:40.219985Z\u001B[0m [\u001B[32m\u001B[1mdebug    \u001B[0m] \u001B[1mPaymentCommand(card_number='4111111111111111' amount=100.0 merchant_id='merchant_123')\u001B[0m \u001B[36mapp_name\u001B[0m=\u001B[35mpayment-system\u001B[0m \u001B[36mfilename\u001B[0m=\u001B[35mbus.py\u001B[0m \u001B[36mfunc_name\u001B[0m=\u001B[35mexecute\u001B[0m \u001B[36mlineno\u001B[0m=\u001B[35m46\u001B[0m\n",
      "\u001B[2m2025-07-30T04:50:40.220175Z\u001B[0m [\u001B[32m\u001B[1mdebug    \u001B[0m] \u001B[1mFeature response PaymentResponse(transaction_id='saved_140052569725824' status='success' amount=100.0)\u001B[0m \u001B[36mapp_name\u001B[0m=\u001B[35mpayment-system\u001B[0m \u001B[36mfilename\u001B[0m=\u001B[35mbus.py\u001B[0m \u001B[36mfunc_name\u001B[0m=\u001B[35mexecute\u001B[0m \u001B[36mlineno\u001B[0m=\u001B[35m51\u001B[0m\n",
      "\u001B[2m2025-07-30T04:50:40.220365Z\u001B[0m [\u001B[32m\u001B[1mdebug    \u001B[0m] \u001B[1mApplication service response MakeTransactionResponse(transaction_id='saved_140052569725824' status='success' amount=100.0)\u001B[0m \u001B[36mapp_name\u001B[0m=\u001B[35mpayment-system\u001B[0m \u001B[36mfilename\u001B[0m=\u001B[35mbus.py\u001B[0m \u001B[36mfunc_name\u001B[0m=\u001B[35mexecute\u001B[0m \u001B[36mlineno\u001B[0m=\u001B[35m101\u001B[0m\n"
     ]
    },
    {
     "data": {
      "text/plain": [
       "MakeTransactionResponse(transaction_id='saved_140052569725824', status='success', amount=100.0)"
      ]
     },
     "execution_count": 5,
     "metadata": {},
     "output_type": "execute_result"
    }
   ],
   "execution_count": 5
  },
  {
   "cell_type": "code",
   "id": "f25f132f731fd40",
   "metadata": {
    "ExecuteTime": {
     "end_time": "2025-07-30T04:50:44.949217Z",
     "start_time": "2025-07-30T04:50:44.947120Z"
    }
   },
   "source": "from sincpro_framework.generate_documentation import build_documentation\n",
   "outputs": [],
   "execution_count": 6
  },
  {
   "cell_type": "code",
   "id": "2da7db4f",
   "metadata": {
    "ExecuteTime": {
     "end_time": "2025-07-30T04:50:46.445839Z",
     "start_time": "2025-07-30T04:50:46.424366Z"
    }
   },
   "source": "build_documentation(framework)",
   "outputs": [
    {
     "name": "stdout",
     "output_type": "stream",
     "text": [
      "✅ Generated: generated_docs/index.md\n",
      "✅ Generated: generated_docs/dependencies.md\n",
      "✅ Generated: generated_docs/middlewares.md\n",
      "✅ Generated: generated_docs/application-services.md\n",
      "✅ Generated: generated_docs/features.md\n",
      "✅ Generated: generated_docs/dtos.md\n",
      "✅ Generated: generated_docs/mkdocs_nav.yml\n",
      "✅ All documentation files saved to: generated_docs/\n"
     ]
    },
    {
     "name": "stderr",
     "output_type": "stream",
     "text": [
      "/home/andru1236/dev/sincpro_framework/.venv/lib/python3.12/site-packages/pydantic/_internal/_fields.py:198: UserWarning: Field name \"mro\" in \"ClassMetadata\" shadows an attribute in parent \"BaseModel\"\n",
      "  warnings.warn(\n"
     ]
    }
   ],
   "execution_count": 7
  },
  {
   "cell_type": "code",
   "id": "f9423528",
   "metadata": {},
   "source": "",
   "outputs": [],
   "execution_count": null
  },
  {
   "metadata": {},
   "cell_type": "code",
   "source": "",
   "id": "9fbe67738329f1a9",
   "outputs": [],
   "execution_count": null
  }
 ],
 "metadata": {
  "kernelspec": {
   "display_name": "sincpro-framework-py3.12",
   "language": "python",
   "name": "python3"
  },
  "language_info": {
   "codemirror_mode": {
    "name": "ipython",
    "version": 3
   },
   "file_extension": ".py",
   "mimetype": "text/x-python",
   "name": "python",
   "nbconvert_exporter": "python",
   "pygments_lexer": "ipython3",
   "version": "3.12.11"
  }
 },
 "nbformat": 4,
 "nbformat_minor": 5
}
